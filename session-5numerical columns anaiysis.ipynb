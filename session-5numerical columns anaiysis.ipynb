{
 "cells": [
  {
   "cell_type": "code",
   "execution_count": 2,
   "id": "b823dc3e-309e-43c3-ae11-fed91cfffa98",
   "metadata": {},
   "outputs": [],
   "source": [
    "import pandas as pd\n",
    "import numpy as np\n",
    "import matplotlib.pyplot as plt\n",
    "import seaborn as sns"
   ]
  },
  {
   "cell_type": "code",
   "execution_count": 2,
   "id": "134bf76e-6373-4cb6-a371-cef79ee98e4c",
   "metadata": {},
   "outputs": [],
   "source": [
    "# Import packages\n",
    "# Read the data\n",
    "# Convert cat and numerical columns\n",
    "# read prevailing_wage data\n",
    "# wage_data=visa_df[col]\n",
    "# count= len(wage_data)\n",
    "# min = np.min\n",
    "# max = np.max\n",
    "# mean = np.mean\n",
    "# meadian= np.median\n",
    "# 25p= np.percentile()\n",
    "# 50p= np.\n",
    "# 750"
   ]
  },
  {
   "cell_type": "code",
   "execution_count": 3,
   "id": "0302b104-3a04-4cfc-8adc-46505a3b8ee7",
   "metadata": {},
   "outputs": [
    {
     "data": {
      "text/html": [
       "<div>\n",
       "<style scoped>\n",
       "    .dataframe tbody tr th:only-of-type {\n",
       "        vertical-align: middle;\n",
       "    }\n",
       "\n",
       "    .dataframe tbody tr th {\n",
       "        vertical-align: top;\n",
       "    }\n",
       "\n",
       "    .dataframe thead th {\n",
       "        text-align: right;\n",
       "    }\n",
       "</style>\n",
       "<table border=\"1\" class=\"dataframe\">\n",
       "  <thead>\n",
       "    <tr style=\"text-align: right;\">\n",
       "      <th></th>\n",
       "      <th>case_id</th>\n",
       "      <th>continent</th>\n",
       "      <th>education_of_employee</th>\n",
       "      <th>has_job_experience</th>\n",
       "      <th>requires_job_training</th>\n",
       "      <th>no_of_employees</th>\n",
       "      <th>yr_of_estab</th>\n",
       "      <th>region_of_employment</th>\n",
       "      <th>prevailing_wage</th>\n",
       "      <th>unit_of_wage</th>\n",
       "      <th>full_time_position</th>\n",
       "      <th>case_status</th>\n",
       "    </tr>\n",
       "  </thead>\n",
       "  <tbody>\n",
       "    <tr>\n",
       "      <th>0</th>\n",
       "      <td>EZYV01</td>\n",
       "      <td>Asia</td>\n",
       "      <td>High School</td>\n",
       "      <td>N</td>\n",
       "      <td>N</td>\n",
       "      <td>14513</td>\n",
       "      <td>2007</td>\n",
       "      <td>West</td>\n",
       "      <td>592.2029</td>\n",
       "      <td>Hour</td>\n",
       "      <td>Y</td>\n",
       "      <td>Denied</td>\n",
       "    </tr>\n",
       "    <tr>\n",
       "      <th>1</th>\n",
       "      <td>EZYV02</td>\n",
       "      <td>Asia</td>\n",
       "      <td>Master's</td>\n",
       "      <td>Y</td>\n",
       "      <td>N</td>\n",
       "      <td>2412</td>\n",
       "      <td>2002</td>\n",
       "      <td>Northeast</td>\n",
       "      <td>83425.6500</td>\n",
       "      <td>Year</td>\n",
       "      <td>Y</td>\n",
       "      <td>Certified</td>\n",
       "    </tr>\n",
       "    <tr>\n",
       "      <th>2</th>\n",
       "      <td>EZYV03</td>\n",
       "      <td>Asia</td>\n",
       "      <td>Bachelor's</td>\n",
       "      <td>N</td>\n",
       "      <td>Y</td>\n",
       "      <td>44444</td>\n",
       "      <td>2008</td>\n",
       "      <td>West</td>\n",
       "      <td>122996.8600</td>\n",
       "      <td>Year</td>\n",
       "      <td>Y</td>\n",
       "      <td>Denied</td>\n",
       "    </tr>\n",
       "    <tr>\n",
       "      <th>3</th>\n",
       "      <td>EZYV04</td>\n",
       "      <td>Asia</td>\n",
       "      <td>Bachelor's</td>\n",
       "      <td>N</td>\n",
       "      <td>N</td>\n",
       "      <td>98</td>\n",
       "      <td>1897</td>\n",
       "      <td>West</td>\n",
       "      <td>83434.0300</td>\n",
       "      <td>Year</td>\n",
       "      <td>Y</td>\n",
       "      <td>Denied</td>\n",
       "    </tr>\n",
       "    <tr>\n",
       "      <th>4</th>\n",
       "      <td>EZYV05</td>\n",
       "      <td>Africa</td>\n",
       "      <td>Master's</td>\n",
       "      <td>Y</td>\n",
       "      <td>N</td>\n",
       "      <td>1082</td>\n",
       "      <td>2005</td>\n",
       "      <td>South</td>\n",
       "      <td>149907.3900</td>\n",
       "      <td>Year</td>\n",
       "      <td>Y</td>\n",
       "      <td>Certified</td>\n",
       "    </tr>\n",
       "    <tr>\n",
       "      <th>...</th>\n",
       "      <td>...</td>\n",
       "      <td>...</td>\n",
       "      <td>...</td>\n",
       "      <td>...</td>\n",
       "      <td>...</td>\n",
       "      <td>...</td>\n",
       "      <td>...</td>\n",
       "      <td>...</td>\n",
       "      <td>...</td>\n",
       "      <td>...</td>\n",
       "      <td>...</td>\n",
       "      <td>...</td>\n",
       "    </tr>\n",
       "    <tr>\n",
       "      <th>25475</th>\n",
       "      <td>EZYV25476</td>\n",
       "      <td>Asia</td>\n",
       "      <td>Bachelor's</td>\n",
       "      <td>Y</td>\n",
       "      <td>Y</td>\n",
       "      <td>2601</td>\n",
       "      <td>2008</td>\n",
       "      <td>South</td>\n",
       "      <td>77092.5700</td>\n",
       "      <td>Year</td>\n",
       "      <td>Y</td>\n",
       "      <td>Certified</td>\n",
       "    </tr>\n",
       "    <tr>\n",
       "      <th>25476</th>\n",
       "      <td>EZYV25477</td>\n",
       "      <td>Asia</td>\n",
       "      <td>High School</td>\n",
       "      <td>Y</td>\n",
       "      <td>N</td>\n",
       "      <td>3274</td>\n",
       "      <td>2006</td>\n",
       "      <td>Northeast</td>\n",
       "      <td>279174.7900</td>\n",
       "      <td>Year</td>\n",
       "      <td>Y</td>\n",
       "      <td>Certified</td>\n",
       "    </tr>\n",
       "    <tr>\n",
       "      <th>25477</th>\n",
       "      <td>EZYV25478</td>\n",
       "      <td>Asia</td>\n",
       "      <td>Master's</td>\n",
       "      <td>Y</td>\n",
       "      <td>N</td>\n",
       "      <td>1121</td>\n",
       "      <td>1910</td>\n",
       "      <td>South</td>\n",
       "      <td>146298.8500</td>\n",
       "      <td>Year</td>\n",
       "      <td>N</td>\n",
       "      <td>Certified</td>\n",
       "    </tr>\n",
       "    <tr>\n",
       "      <th>25478</th>\n",
       "      <td>EZYV25479</td>\n",
       "      <td>Asia</td>\n",
       "      <td>Master's</td>\n",
       "      <td>Y</td>\n",
       "      <td>Y</td>\n",
       "      <td>1918</td>\n",
       "      <td>1887</td>\n",
       "      <td>West</td>\n",
       "      <td>86154.7700</td>\n",
       "      <td>Year</td>\n",
       "      <td>Y</td>\n",
       "      <td>Certified</td>\n",
       "    </tr>\n",
       "    <tr>\n",
       "      <th>25479</th>\n",
       "      <td>EZYV25480</td>\n",
       "      <td>Asia</td>\n",
       "      <td>Bachelor's</td>\n",
       "      <td>Y</td>\n",
       "      <td>N</td>\n",
       "      <td>3195</td>\n",
       "      <td>1960</td>\n",
       "      <td>Midwest</td>\n",
       "      <td>70876.9100</td>\n",
       "      <td>Year</td>\n",
       "      <td>Y</td>\n",
       "      <td>Certified</td>\n",
       "    </tr>\n",
       "  </tbody>\n",
       "</table>\n",
       "<p>25480 rows × 12 columns</p>\n",
       "</div>"
      ],
      "text/plain": [
       "         case_id continent education_of_employee has_job_experience  \\\n",
       "0         EZYV01      Asia           High School                  N   \n",
       "1         EZYV02      Asia              Master's                  Y   \n",
       "2         EZYV03      Asia            Bachelor's                  N   \n",
       "3         EZYV04      Asia            Bachelor's                  N   \n",
       "4         EZYV05    Africa              Master's                  Y   \n",
       "...          ...       ...                   ...                ...   \n",
       "25475  EZYV25476      Asia            Bachelor's                  Y   \n",
       "25476  EZYV25477      Asia           High School                  Y   \n",
       "25477  EZYV25478      Asia              Master's                  Y   \n",
       "25478  EZYV25479      Asia              Master's                  Y   \n",
       "25479  EZYV25480      Asia            Bachelor's                  Y   \n",
       "\n",
       "      requires_job_training  no_of_employees  yr_of_estab  \\\n",
       "0                         N            14513         2007   \n",
       "1                         N             2412         2002   \n",
       "2                         Y            44444         2008   \n",
       "3                         N               98         1897   \n",
       "4                         N             1082         2005   \n",
       "...                     ...              ...          ...   \n",
       "25475                     Y             2601         2008   \n",
       "25476                     N             3274         2006   \n",
       "25477                     N             1121         1910   \n",
       "25478                     Y             1918         1887   \n",
       "25479                     N             3195         1960   \n",
       "\n",
       "      region_of_employment  prevailing_wage unit_of_wage full_time_position  \\\n",
       "0                     West         592.2029         Hour                  Y   \n",
       "1                Northeast       83425.6500         Year                  Y   \n",
       "2                     West      122996.8600         Year                  Y   \n",
       "3                     West       83434.0300         Year                  Y   \n",
       "4                    South      149907.3900         Year                  Y   \n",
       "...                    ...              ...          ...                ...   \n",
       "25475                South       77092.5700         Year                  Y   \n",
       "25476            Northeast      279174.7900         Year                  Y   \n",
       "25477                South      146298.8500         Year                  N   \n",
       "25478                 West       86154.7700         Year                  Y   \n",
       "25479              Midwest       70876.9100         Year                  Y   \n",
       "\n",
       "      case_status  \n",
       "0          Denied  \n",
       "1       Certified  \n",
       "2          Denied  \n",
       "3          Denied  \n",
       "4       Certified  \n",
       "...           ...  \n",
       "25475   Certified  \n",
       "25476   Certified  \n",
       "25477   Certified  \n",
       "25478   Certified  \n",
       "25479   Certified  \n",
       "\n",
       "[25480 rows x 12 columns]"
      ]
     },
     "execution_count": 3,
     "metadata": {},
     "output_type": "execute_result"
    }
   ],
   "source": [
    "visa_df=pd.read_csv(r\"C:\\Users\\HP\\OneDrive\\Documents\\data files\\Visadataset.csv\")\n",
    "visa_df"
   ]
  },
  {
   "cell_type": "code",
   "execution_count": 4,
   "id": "b4169040-9975-4cd8-9551-eba086dcb21a",
   "metadata": {},
   "outputs": [],
   "source": [
    "visa_df=pd.read_csv(r\"C:\\Users\\HP\\Downloads\\Visadataset.csv\")\n",
    "cat=visa_df.select_dtypes(include='object').columns\n",
    "num=visa_df.select_dtypes(exclude='object').columns"
   ]
  },
  {
   "cell_type": "code",
   "execution_count": 5,
   "id": "f61c54d8-53b5-4a73-a10a-38a50ccf105e",
   "metadata": {},
   "outputs": [
    {
     "data": {
      "text/plain": [
       "Index(['no_of_employees', 'yr_of_estab', 'prevailing_wage'], dtype='object')"
      ]
     },
     "execution_count": 5,
     "metadata": {},
     "output_type": "execute_result"
    }
   ],
   "source": [
    "num"
   ]
  },
  {
   "cell_type": "code",
   "execution_count": 6,
   "id": "69ba9fb3-5f91-4ca1-897b-3f246327c1f5",
   "metadata": {},
   "outputs": [
    {
     "data": {
      "text/plain": [
       "Index(['case_id', 'continent', 'education_of_employee', 'has_job_experience',\n",
       "       'requires_job_training', 'region_of_employment', 'unit_of_wage',\n",
       "       'full_time_position', 'case_status'],\n",
       "      dtype='object')"
      ]
     },
     "execution_count": 6,
     "metadata": {},
     "output_type": "execute_result"
    }
   ],
   "source": [
    "cat"
   ]
  },
  {
   "cell_type": "code",
   "execution_count": 7,
   "id": "9c63ba77-99af-4cf3-ad93-d8ab56e715a9",
   "metadata": {},
   "outputs": [
    {
     "data": {
      "text/plain": [
       "0           592.2029\n",
       "1         83425.6500\n",
       "2        122996.8600\n",
       "3         83434.0300\n",
       "4        149907.3900\n",
       "            ...     \n",
       "25475     77092.5700\n",
       "25476    279174.7900\n",
       "25477    146298.8500\n",
       "25478     86154.7700\n",
       "25479     70876.9100\n",
       "Name: prevailing_wage, Length: 25480, dtype: float64"
      ]
     },
     "execution_count": 7,
     "metadata": {},
     "output_type": "execute_result"
    }
   ],
   "source": [
    "wage_df=visa_df['prevailing_wage']\n",
    "wage_df"
   ]
  },
  {
   "cell_type": "code",
   "execution_count": 8,
   "id": "f325b6cb-53c9-41cc-9267-e534cc978535",
   "metadata": {},
   "outputs": [
    {
     "data": {
      "text/plain": [
       "25480"
      ]
     },
     "execution_count": 8,
     "metadata": {},
     "output_type": "execute_result"
    }
   ],
   "source": [
    "count=len(wage_df)\n",
    "count"
   ]
  },
  {
   "cell_type": "code",
   "execution_count": 9,
   "id": "ee48a500-fbfc-4b8d-b85b-255d024738fc",
   "metadata": {},
   "outputs": [
    {
     "data": {
      "text/plain": [
       "2.1367"
      ]
     },
     "execution_count": 9,
     "metadata": {},
     "output_type": "execute_result"
    }
   ],
   "source": [
    "min(wage_df)\n"
   ]
  },
  {
   "cell_type": "code",
   "execution_count": 10,
   "id": "1e10de2b-a47f-4b33-af61-20871c54e781",
   "metadata": {},
   "outputs": [
    {
     "data": {
      "text/plain": [
       "2.1367"
      ]
     },
     "execution_count": 10,
     "metadata": {},
     "output_type": "execute_result"
    }
   ],
   "source": [
    "Min=wage_df.min()\n",
    "Min"
   ]
  },
  {
   "cell_type": "code",
   "execution_count": 11,
   "id": "99deef57-18f1-4294-a58e-59b5a68a4896",
   "metadata": {},
   "outputs": [
    {
     "data": {
      "text/plain": [
       "319210.27"
      ]
     },
     "execution_count": 11,
     "metadata": {},
     "output_type": "execute_result"
    }
   ],
   "source": [
    "Max=wage_df.max()\n",
    "Max"
   ]
  },
  {
   "cell_type": "code",
   "execution_count": 12,
   "id": "0a98050d-557b-4bfa-abd9-9c2a31e0ab74",
   "metadata": {},
   "outputs": [
    {
     "data": {
      "text/plain": [
       "319210.27"
      ]
     },
     "execution_count": 12,
     "metadata": {},
     "output_type": "execute_result"
    }
   ],
   "source": [
    "max(wage_df)"
   ]
  },
  {
   "cell_type": "code",
   "execution_count": 13,
   "id": "57e6782d-6501-4515-81df-ed8e105048de",
   "metadata": {},
   "outputs": [
    {
     "data": {
      "text/plain": [
       "74455.81459209183"
      ]
     },
     "execution_count": 13,
     "metadata": {},
     "output_type": "execute_result"
    }
   ],
   "source": [
    "Mean=wage_df.mean()\n",
    "Mean"
   ]
  },
  {
   "cell_type": "code",
   "execution_count": 14,
   "id": "6b25b0d1-dd0c-46f2-8149-0e3c4a6be34c",
   "metadata": {},
   "outputs": [
    {
     "data": {
      "text/plain": [
       "74455.81459209183"
      ]
     },
     "execution_count": 14,
     "metadata": {},
     "output_type": "execute_result"
    }
   ],
   "source": [
    "np.mean(wage_df)"
   ]
  },
  {
   "cell_type": "code",
   "execution_count": 15,
   "id": "0f96ec7f-fc1e-4993-862d-5c9680b616a8",
   "metadata": {},
   "outputs": [
    {
     "data": {
      "text/plain": [
       "70308.20999999999"
      ]
     },
     "execution_count": 15,
     "metadata": {},
     "output_type": "execute_result"
    }
   ],
   "source": [
    "Median=wage_df.median()\n",
    "Median"
   ]
  },
  {
   "cell_type": "code",
   "execution_count": 16,
   "id": "f26b7fe9-a713-42b6-ad71-3da57bdb1a5d",
   "metadata": {},
   "outputs": [
    {
     "data": {
      "text/plain": [
       "70308.21"
      ]
     },
     "execution_count": 16,
     "metadata": {},
     "output_type": "execute_result"
    }
   ],
   "source": [
    "round(wage_df.median(),2)"
   ]
  },
  {
   "cell_type": "code",
   "execution_count": 17,
   "id": "41c973e4-7191-49ef-960b-e0d395ac351a",
   "metadata": {},
   "outputs": [
    {
     "data": {
      "text/plain": [
       "70308.20999999999"
      ]
     },
     "execution_count": 17,
     "metadata": {},
     "output_type": "execute_result"
    }
   ],
   "source": [
    "median=np.median(wage_df)\n",
    "Median"
   ]
  },
  {
   "cell_type": "code",
   "execution_count": 18,
   "id": "48f5b2b0-638e-49ba-a81e-f6eaba5f6d8e",
   "metadata": {},
   "outputs": [
    {
     "data": {
      "text/plain": [
       "34015.479999999996"
      ]
     },
     "execution_count": 18,
     "metadata": {},
     "output_type": "execute_result"
    }
   ],
   "source": [
    "p_25=np.percentile(wage_df,q=25)\n",
    "p_25"
   ]
  },
  {
   "cell_type": "code",
   "execution_count": 19,
   "id": "aa428421-bd6c-4683-9164-0beed6ef704e",
   "metadata": {},
   "outputs": [
    {
     "data": {
      "text/plain": [
       "34015.479999999996"
      ]
     },
     "execution_count": 19,
     "metadata": {},
     "output_type": "execute_result"
    }
   ],
   "source": [
    "np.quantile(wage_df,0.25)"
   ]
  },
  {
   "cell_type": "code",
   "execution_count": 20,
   "id": "0391f4f9-6588-4ba6-9c1d-e35ea1aca47b",
   "metadata": {},
   "outputs": [
    {
     "data": {
      "text/plain": [
       "70308.20999999999"
      ]
     },
     "execution_count": 20,
     "metadata": {},
     "output_type": "execute_result"
    }
   ],
   "source": [
    "p_50=np.percentile(wage_df,q=50)\n",
    "p_50"
   ]
  },
  {
   "cell_type": "code",
   "execution_count": 21,
   "id": "1fe12b43-2b2e-49c1-b087-4464ef6e86ee",
   "metadata": {},
   "outputs": [
    {
     "data": {
      "text/plain": [
       "70308.20999999999"
      ]
     },
     "execution_count": 21,
     "metadata": {},
     "output_type": "execute_result"
    }
   ],
   "source": [
    "np.quantile(wage_df,0.50)"
   ]
  },
  {
   "cell_type": "code",
   "execution_count": 22,
   "id": "b7cf3eda-1892-48e5-a946-373357e0acbe",
   "metadata": {},
   "outputs": [
    {
     "data": {
      "text/plain": [
       "107735.51250000001"
      ]
     },
     "execution_count": 22,
     "metadata": {},
     "output_type": "execute_result"
    }
   ],
   "source": [
    "p_75=np.percentile(wage_df,q=75)\n",
    "p_75"
   ]
  },
  {
   "cell_type": "code",
   "execution_count": 23,
   "id": "1dca8e65-8bee-423c-a33f-414d26ce88c9",
   "metadata": {},
   "outputs": [
    {
     "data": {
      "text/plain": [
       "107735.51250000001"
      ]
     },
     "execution_count": 23,
     "metadata": {},
     "output_type": "execute_result"
    }
   ],
   "source": [
    "np.quantile(wage_df,0.75)"
   ]
  },
  {
   "cell_type": "code",
   "execution_count": 24,
   "id": "360b6078-ed8a-4529-be88-933579c3c9ff",
   "metadata": {},
   "outputs": [
    {
     "data": {
      "text/plain": [
       "107735.513"
      ]
     },
     "execution_count": 24,
     "metadata": {},
     "output_type": "execute_result"
    }
   ],
   "source": [
    "round(np.quantile(wage_df,0.75),3)"
   ]
  },
  {
   "cell_type": "code",
   "execution_count": 25,
   "id": "3225355e-3d77-401d-b79b-0596d83370de",
   "metadata": {},
   "outputs": [
    {
     "data": {
      "text/html": [
       "<div>\n",
       "<style scoped>\n",
       "    .dataframe tbody tr th:only-of-type {\n",
       "        vertical-align: middle;\n",
       "    }\n",
       "\n",
       "    .dataframe tbody tr th {\n",
       "        vertical-align: top;\n",
       "    }\n",
       "\n",
       "    .dataframe thead th {\n",
       "        text-align: right;\n",
       "    }\n",
       "</style>\n",
       "<table border=\"1\" class=\"dataframe\">\n",
       "  <thead>\n",
       "    <tr style=\"text-align: right;\">\n",
       "      <th></th>\n",
       "      <th>prevailing_wage</th>\n",
       "    </tr>\n",
       "  </thead>\n",
       "  <tbody>\n",
       "    <tr>\n",
       "      <th>count</th>\n",
       "      <td>25480.00</td>\n",
       "    </tr>\n",
       "    <tr>\n",
       "      <th>Min</th>\n",
       "      <td>2.14</td>\n",
       "    </tr>\n",
       "    <tr>\n",
       "      <th>p_25</th>\n",
       "      <td>34015.48</td>\n",
       "    </tr>\n",
       "    <tr>\n",
       "      <th>Mean</th>\n",
       "      <td>74455.81</td>\n",
       "    </tr>\n",
       "    <tr>\n",
       "      <th>Median</th>\n",
       "      <td>70308.21</td>\n",
       "    </tr>\n",
       "    <tr>\n",
       "      <th>p_50</th>\n",
       "      <td>70308.21</td>\n",
       "    </tr>\n",
       "    <tr>\n",
       "      <th>p_75</th>\n",
       "      <td>107735.51</td>\n",
       "    </tr>\n",
       "    <tr>\n",
       "      <th>Max</th>\n",
       "      <td>319210.27</td>\n",
       "    </tr>\n",
       "  </tbody>\n",
       "</table>\n",
       "</div>"
      ],
      "text/plain": [
       "        prevailing_wage\n",
       "count          25480.00\n",
       "Min                2.14\n",
       "p_25           34015.48\n",
       "Mean           74455.81\n",
       "Median         70308.21\n",
       "p_50           70308.21\n",
       "p_75          107735.51\n",
       "Max           319210.27"
      ]
     },
     "execution_count": 25,
     "metadata": {},
     "output_type": "execute_result"
    }
   ],
   "source": [
    "count=len(wage_df)\n",
    "Min=round(np.min(wage_df),2)\n",
    "p_25=round(np.percentile(wage_df,25),2)\n",
    "Mean=round(np.mean(wage_df),2)\n",
    "Median=round(np.median(wage_df),2)\n",
    "p_50=round(np.percentile(wage_df,50),2)\n",
    "p_75=round(np.percentile(wage_df,75),2)\n",
    "Max=round(np.max(wage_df),2)\n",
    "values=[count,Min,p_25,Mean,Median,p_50,p_75,Max]\n",
    "ids=['count','Min','p_25','Mean','Median','p_50','p_75','Max']\n",
    "pd.DataFrame(values,index=ids,columns=['prevailing_wage'])"
   ]
  },
  {
   "cell_type": "code",
   "execution_count": 26,
   "id": "c95b5f79-a136-418d-8fcc-faab47ddae3d",
   "metadata": {},
   "outputs": [
    {
     "data": {
      "text/html": [
       "<div>\n",
       "<style scoped>\n",
       "    .dataframe tbody tr th:only-of-type {\n",
       "        vertical-align: middle;\n",
       "    }\n",
       "\n",
       "    .dataframe tbody tr th {\n",
       "        vertical-align: top;\n",
       "    }\n",
       "\n",
       "    .dataframe thead th {\n",
       "        text-align: right;\n",
       "    }\n",
       "</style>\n",
       "<table border=\"1\" class=\"dataframe\">\n",
       "  <thead>\n",
       "    <tr style=\"text-align: right;\">\n",
       "      <th></th>\n",
       "      <th>prevailingdata</th>\n",
       "    </tr>\n",
       "  </thead>\n",
       "  <tbody>\n",
       "    <tr>\n",
       "      <th>count</th>\n",
       "      <td>25480.00</td>\n",
       "    </tr>\n",
       "    <tr>\n",
       "      <th>min</th>\n",
       "      <td>2.14</td>\n",
       "    </tr>\n",
       "    <tr>\n",
       "      <th>max</th>\n",
       "      <td>319210.27</td>\n",
       "    </tr>\n",
       "    <tr>\n",
       "      <th>p_25</th>\n",
       "      <td>34015.48</td>\n",
       "    </tr>\n",
       "    <tr>\n",
       "      <th>mean</th>\n",
       "      <td>74455.81</td>\n",
       "    </tr>\n",
       "    <tr>\n",
       "      <th>median</th>\n",
       "      <td>70308.21</td>\n",
       "    </tr>\n",
       "    <tr>\n",
       "      <th>p_50</th>\n",
       "      <td>70308.21</td>\n",
       "    </tr>\n",
       "    <tr>\n",
       "      <th>p_75</th>\n",
       "      <td>107735.51</td>\n",
       "    </tr>\n",
       "    <tr>\n",
       "      <th>max</th>\n",
       "      <td>319210.27</td>\n",
       "    </tr>\n",
       "  </tbody>\n",
       "</table>\n",
       "</div>"
      ],
      "text/plain": [
       "        prevailingdata\n",
       "count         25480.00\n",
       "min               2.14\n",
       "max          319210.27\n",
       "p_25          34015.48\n",
       "mean          74455.81\n",
       "median        70308.21\n",
       "p_50          70308.21\n",
       "p_75         107735.51\n",
       "max          319210.27"
      ]
     },
     "execution_count": 26,
     "metadata": {},
     "output_type": "execute_result"
    }
   ],
   "source": [
    "l=[count,Min,Max,p_25,Mean,Median,p_50,p_75,Max]\n",
    "inds=['count','min','max','p_25','mean','median','p_50','p_75','max']\n",
    "pd.DataFrame(l,index=inds,columns=['prevailingdata'])\n",
    "\n",
    "#keep all values in list\n",
    "#create a list index =[count,min,25p,]"
   ]
  },
  {
   "cell_type": "code",
   "execution_count": 27,
   "id": "255b178d-b331-4337-9ac5-4b9e9b462fb1",
   "metadata": {},
   "outputs": [
    {
     "data": {
      "text/html": [
       "<div>\n",
       "<style scoped>\n",
       "    .dataframe tbody tr th:only-of-type {\n",
       "        vertical-align: middle;\n",
       "    }\n",
       "\n",
       "    .dataframe tbody tr th {\n",
       "        vertical-align: top;\n",
       "    }\n",
       "\n",
       "    .dataframe thead th {\n",
       "        text-align: right;\n",
       "    }\n",
       "</style>\n",
       "<table border=\"1\" class=\"dataframe\">\n",
       "  <thead>\n",
       "    <tr style=\"text-align: right;\">\n",
       "      <th></th>\n",
       "      <th>no_of_employees</th>\n",
       "      <th>yr_of_estab</th>\n",
       "      <th>prevailing_wage</th>\n",
       "    </tr>\n",
       "  </thead>\n",
       "  <tbody>\n",
       "    <tr>\n",
       "      <th>count</th>\n",
       "      <td>25480.00</td>\n",
       "      <td>25480.00</td>\n",
       "      <td>25480.00</td>\n",
       "    </tr>\n",
       "    <tr>\n",
       "      <th>Min</th>\n",
       "      <td>-26.00</td>\n",
       "      <td>1800.00</td>\n",
       "      <td>2.14</td>\n",
       "    </tr>\n",
       "    <tr>\n",
       "      <th>p_25</th>\n",
       "      <td>1022.00</td>\n",
       "      <td>1976.00</td>\n",
       "      <td>34015.48</td>\n",
       "    </tr>\n",
       "    <tr>\n",
       "      <th>Mean</th>\n",
       "      <td>5667.04</td>\n",
       "      <td>1979.41</td>\n",
       "      <td>74455.81</td>\n",
       "    </tr>\n",
       "    <tr>\n",
       "      <th>Median</th>\n",
       "      <td>2109.00</td>\n",
       "      <td>1997.00</td>\n",
       "      <td>70308.21</td>\n",
       "    </tr>\n",
       "    <tr>\n",
       "      <th>p_50</th>\n",
       "      <td>2109.00</td>\n",
       "      <td>1997.00</td>\n",
       "      <td>70308.21</td>\n",
       "    </tr>\n",
       "    <tr>\n",
       "      <th>p_75</th>\n",
       "      <td>3504.00</td>\n",
       "      <td>2005.00</td>\n",
       "      <td>107735.51</td>\n",
       "    </tr>\n",
       "    <tr>\n",
       "      <th>Max</th>\n",
       "      <td>602069.00</td>\n",
       "      <td>2016.00</td>\n",
       "      <td>319210.27</td>\n",
       "    </tr>\n",
       "  </tbody>\n",
       "</table>\n",
       "</div>"
      ],
      "text/plain": [
       "        no_of_employees  yr_of_estab  prevailing_wage\n",
       "count          25480.00     25480.00         25480.00\n",
       "Min              -26.00      1800.00             2.14\n",
       "p_25            1022.00      1976.00         34015.48\n",
       "Mean            5667.04      1979.41         74455.81\n",
       "Median          2109.00      1997.00         70308.21\n",
       "p_50            2109.00      1997.00         70308.21\n",
       "p_75            3504.00      2005.00        107735.51\n",
       "Max           602069.00      2016.00        319210.27"
      ]
     },
     "execution_count": 27,
     "metadata": {},
     "output_type": "execute_result"
    }
   ],
   "source": [
    "ids=['count', 'Min', 'p_25', 'Mean', 'Median', 'p_50', 'p_75', 'Max']\n",
    "num=visa_df.select_dtypes(exclude='object').columns\n",
    "l=[]\n",
    "\n",
    "for i in num:\n",
    "    \n",
    "    data=visa_df[i]\n",
    "    \n",
    "    count=len(data)\n",
    "    \n",
    "    Min=round(np.min(data),2)\n",
    "    \n",
    "    p_25=round(np.percentile(data, 25), 2)\n",
    "    \n",
    "    Mean=round(np.mean(data),2)\n",
    "    \n",
    "    Median=round(np.median(data),2)\n",
    "    \n",
    "    p_50=round(np.percentile(data, 50), 2)\n",
    "    \n",
    "    p_75=round(np.percentile(data, 75), 2)\n",
    "    \n",
    "    Max=round(np.max(data),2)\n",
    "    \n",
    "    values=[count, Min, p_25, Mean, Median, p_50,p_75, Max]\n",
    "\n",
    "    l.append(values)\n",
    "pd.DataFrame(l,\n",
    "             columns=ids           # give index list at columns place\n",
    "             ,index=num).T          # give numerical column values at index place"
   ]
  },
  {
   "cell_type": "code",
   "execution_count": 28,
   "id": "8f5276c0-92d7-4ee6-95c1-f92241c58e6c",
   "metadata": {},
   "outputs": [
    {
     "data": {
      "text/html": [
       "<div>\n",
       "<style scoped>\n",
       "    .dataframe tbody tr th:only-of-type {\n",
       "        vertical-align: middle;\n",
       "    }\n",
       "\n",
       "    .dataframe tbody tr th {\n",
       "        vertical-align: top;\n",
       "    }\n",
       "\n",
       "    .dataframe thead th {\n",
       "        text-align: right;\n",
       "    }\n",
       "</style>\n",
       "<table border=\"1\" class=\"dataframe\">\n",
       "  <thead>\n",
       "    <tr style=\"text-align: right;\">\n",
       "      <th></th>\n",
       "      <th>no_of_employees</th>\n",
       "      <th>yr_of_estab</th>\n",
       "      <th>prevailing_wage</th>\n",
       "    </tr>\n",
       "  </thead>\n",
       "  <tbody>\n",
       "    <tr>\n",
       "      <th>count</th>\n",
       "      <td>25480.000000</td>\n",
       "      <td>25480.000000</td>\n",
       "      <td>25480.000000</td>\n",
       "    </tr>\n",
       "    <tr>\n",
       "      <th>mean</th>\n",
       "      <td>5667.043210</td>\n",
       "      <td>1979.409929</td>\n",
       "      <td>74455.814592</td>\n",
       "    </tr>\n",
       "    <tr>\n",
       "      <th>std</th>\n",
       "      <td>22877.928848</td>\n",
       "      <td>42.366929</td>\n",
       "      <td>52815.942327</td>\n",
       "    </tr>\n",
       "    <tr>\n",
       "      <th>min</th>\n",
       "      <td>-26.000000</td>\n",
       "      <td>1800.000000</td>\n",
       "      <td>2.136700</td>\n",
       "    </tr>\n",
       "    <tr>\n",
       "      <th>25%</th>\n",
       "      <td>1022.000000</td>\n",
       "      <td>1976.000000</td>\n",
       "      <td>34015.480000</td>\n",
       "    </tr>\n",
       "    <tr>\n",
       "      <th>50%</th>\n",
       "      <td>2109.000000</td>\n",
       "      <td>1997.000000</td>\n",
       "      <td>70308.210000</td>\n",
       "    </tr>\n",
       "    <tr>\n",
       "      <th>75%</th>\n",
       "      <td>3504.000000</td>\n",
       "      <td>2005.000000</td>\n",
       "      <td>107735.512500</td>\n",
       "    </tr>\n",
       "    <tr>\n",
       "      <th>max</th>\n",
       "      <td>602069.000000</td>\n",
       "      <td>2016.000000</td>\n",
       "      <td>319210.270000</td>\n",
       "    </tr>\n",
       "  </tbody>\n",
       "</table>\n",
       "</div>"
      ],
      "text/plain": [
       "       no_of_employees   yr_of_estab  prevailing_wage\n",
       "count     25480.000000  25480.000000     25480.000000\n",
       "mean       5667.043210   1979.409929     74455.814592\n",
       "std       22877.928848     42.366929     52815.942327\n",
       "min         -26.000000   1800.000000         2.136700\n",
       "25%        1022.000000   1976.000000     34015.480000\n",
       "50%        2109.000000   1997.000000     70308.210000\n",
       "75%        3504.000000   2005.000000    107735.512500\n",
       "max      602069.000000   2016.000000    319210.270000"
      ]
     },
     "execution_count": 28,
     "metadata": {},
     "output_type": "execute_result"
    }
   ],
   "source": [
    "visa_df.describe()  # same as above cell 1.5 second solve"
   ]
  },
  {
   "cell_type": "code",
   "execution_count": 29,
   "id": "6c86c1bc-b920-4352-866f-f516fd139a69",
   "metadata": {},
   "outputs": [
    {
     "data": {
      "text/plain": [
       "0        14513\n",
       "1         2412\n",
       "2        44444\n",
       "3           98\n",
       "4         1082\n",
       "         ...  \n",
       "25475     2601\n",
       "25476     3274\n",
       "25477     1121\n",
       "25478     1918\n",
       "25479     3195\n",
       "Name: no_of_employees, Length: 25480, dtype: int64"
      ]
     },
     "execution_count": 29,
     "metadata": {},
     "output_type": "execute_result"
    }
   ],
   "source": [
    "visa_df['no_of_employees']"
   ]
  },
  {
   "cell_type": "markdown",
   "id": "94555496-082a-4712-8a41-99387afe15b5",
   "metadata": {},
   "source": [
    "## percentile concept"
   ]
  },
  {
   "cell_type": "code",
   "execution_count": 30,
   "id": "cd51b029-128d-433e-93a8-97539a43a121",
   "metadata": {},
   "outputs": [
    {
     "data": {
      "text/plain": [
       "0           592.2029\n",
       "1         83425.6500\n",
       "2        122996.8600\n",
       "3         83434.0300\n",
       "4        149907.3900\n",
       "            ...     \n",
       "25475     77092.5700\n",
       "25476    279174.7900\n",
       "25477    146298.8500\n",
       "25478     86154.7700\n",
       "25479     70876.9100\n",
       "Name: prevailing_wage, Length: 25480, dtype: float64"
      ]
     },
     "execution_count": 30,
     "metadata": {},
     "output_type": "execute_result"
    }
   ],
   "source": [
    "wage_data=visa_df['prevailing_wage']\n",
    "wage_data"
   ]
  },
  {
   "cell_type": "code",
   "execution_count": 31,
   "id": "e81a9375-0a7b-4975-a204-0ec544ab0e1d",
   "metadata": {},
   "outputs": [
    {
     "data": {
      "text/plain": [
       "(34015.479999999996, 70308.20999999999, 107735.51250000001)"
      ]
     },
     "execution_count": 31,
     "metadata": {},
     "output_type": "execute_result"
    }
   ],
   "source": [
    "p_25=np.percentile(wage_data, 25)\n",
    "\n",
    "p_50=np.percentile(wage_data, 50)\n",
    "\n",
    "p_75=np.percentile(wage_data,75)\n",
    "\n",
    "p_25,p_50,p_75"
   ]
  },
  {
   "cell_type": "code",
   "execution_count": 32,
   "id": "9bb76215-c400-480e-a450-26024d4d006c",
   "metadata": {},
   "outputs": [
    {
     "data": {
      "text/plain": [
       "74455.81459209183"
      ]
     },
     "execution_count": 32,
     "metadata": {},
     "output_type": "execute_result"
    }
   ],
   "source": [
    "wage_mean=np.mean(wage_data)\n",
    "wage_mean"
   ]
  },
  {
   "cell_type": "markdown",
   "id": "c21a144d-a13d-4124-a529-e764dd90a5c0",
   "metadata": {},
   "source": [
    "**meaning**\n",
    "\n",
    "- 25 percentage of applicants has wage less than 34015.47\n",
    "\n",
    "    - 25% of 25480 = 6370 applicants has wage less than 34015.47\n",
    "\n",
    "- 50 percentage of applicants has wage less than 70308.20\n",
    "\n",
    "    - 50% of 25480=12740 applicants has wage less than 70308.20\n",
    "\n",
    "- 75percentage of applicants has wage less than 107735:51\n",
    "\n",
    "    - 75% of 25480=19110 applicants has wage less than 107735.51"
   ]
  },
  {
   "cell_type": "markdown",
   "id": "1f5aa0a0-5703-483f-a7d6-e962861b4f02",
   "metadata": {},
   "source": [
    "## idea"
   ]
  },
  {
   "cell_type": "code",
   "execution_count": 33,
   "id": "9a9e6247-b5a3-4263-8eab-aa53dc403a0c",
   "metadata": {},
   "outputs": [
    {
     "data": {
      "text/plain": [
       "6370"
      ]
     },
     "execution_count": 33,
     "metadata": {},
     "output_type": "execute_result"
    }
   ],
   "source": [
    "    p_25=np.percentile(wage_data,25)\n",
    "con=wage_data<p_25\n",
    "len(visa_df[con])"
   ]
  },
  {
   "cell_type": "code",
   "execution_count": 34,
   "id": "0ce63c6a-02d4-4595-9d69-3155b3161a67",
   "metadata": {},
   "outputs": [
    {
     "data": {
      "text/plain": [
       "12740"
      ]
     },
     "execution_count": 34,
     "metadata": {},
     "output_type": "execute_result"
    }
   ],
   "source": [
    "p_50=np.percentile(wage_data,50)\n",
    "con=wage_data<p_50\n",
    "len(visa_df[con])"
   ]
  },
  {
   "cell_type": "code",
   "execution_count": 35,
   "id": "8c4ea39d-179e-40a3-a397-a055340601af",
   "metadata": {},
   "outputs": [
    {
     "data": {
      "text/plain": [
       "19110"
      ]
     },
     "execution_count": 35,
     "metadata": {},
     "output_type": "execute_result"
    }
   ],
   "source": [
    "p_75=np.percentile(wage_data,75)\n",
    "con=wage_data<p_75\n",
    "len(visa_df[con])"
   ]
  },
  {
   "cell_type": "markdown",
   "id": "abb5828c-7d31-4043-a829-fe5fe8d7275f",
   "metadata": {},
   "source": [
    "## emperical rule"
   ]
  },
  {
   "cell_type": "markdown",
   "id": "51d0e7f2-a32f-4e1c-9f47-14d7582c77e1",
   "metadata": {},
   "source": [
    "**Emperical rule**\n",
    "\n",
    "- u-1 *std to u+1*std = 68%\n",
    "\n",
    "- u-2 *std to u+2*std = 95%\n",
    "\n",
    "- u-3*std to u+3*std = 99.7%\n",
    "\n",
    "  - step-1: wage_mean\n",
    "\n",
    "  - step-2: wage_std\n",
    "  - step-3: lb=wage_mean-1*wage_std\n",
    "\n",
    "  - step-4: ub=wage_mean+1*wage_std\n",
    "\n",
    "  - step-5: con1=wage_data>lb\n",
    "\n",
    "  - step-6: con2=wage_data<ub\n",
    "\n",
    "  - step-7: con = con1 & con2\n",
    "\n",
    "  - step-8: len(visa_df(con])==68*25480/100"
   ]
  },
  {
   "cell_type": "code",
   "execution_count": 36,
   "id": "91518862-3e6a-4a37-8074-35c3862c80da",
   "metadata": {},
   "outputs": [
    {
     "data": {
      "text/plain": [
       "52814.90589711402"
      ]
     },
     "execution_count": 36,
     "metadata": {},
     "output_type": "execute_result"
    }
   ],
   "source": [
    "wage_std=np.std(wage_df)\n",
    "wage_std"
   ]
  },
  {
   "cell_type": "code",
   "execution_count": null,
   "id": "0eb2ee74-b9cd-4b7c-9523-9b689ce91f24",
   "metadata": {},
   "outputs": [],
   "source": []
  },
  {
   "cell_type": "code",
   "execution_count": 37,
   "id": "c5b197eb-3406-447a-82e9-2d9916c2df75",
   "metadata": {},
   "outputs": [
    {
     "data": {
      "text/plain": [
       "False"
      ]
     },
     "execution_count": 37,
     "metadata": {},
     "output_type": "execute_result"
    }
   ],
   "source": [
    "wage_mean=wage_data.mean()\n",
    "wage_std=wage_data.std()\n",
    "lb=wage_mean-1*wage_std\n",
    "ub=wage_mean+1*wage_std\n",
    "con1=wage_data>lb\n",
    "con2=wage_data<ub\n",
    "con=con1 & con2\n",
    "len(visa_df[con])==68*25480/100"
   ]
  },
  {
   "cell_type": "code",
   "execution_count": 38,
   "id": "5b79d2d6-af7e-46eb-8632-aa043236c5dd",
   "metadata": {},
   "outputs": [
    {
     "data": {
      "text/plain": [
       "False"
      ]
     },
     "execution_count": 38,
     "metadata": {},
     "output_type": "execute_result"
    }
   ],
   "source": [
    "wage_mean=wage_data.mean()\n",
    "wage_std=wage_data.std()\n",
    "lb=wage_mean-2*wage_std\n",
    "ub=wage_mean+2*wage_std\n",
    "con1=wage_data>lb\n",
    "con2=wage_data<ub\n",
    "con=con1 & con2\n",
    "len(visa_df[con])==95*25480/100"
   ]
  },
  {
   "cell_type": "code",
   "execution_count": 39,
   "id": "be3cff89-6c18-4f5d-a572-bc6af855caf7",
   "metadata": {},
   "outputs": [
    {
     "data": {
      "text/plain": [
       "False"
      ]
     },
     "execution_count": 39,
     "metadata": {},
     "output_type": "execute_result"
    }
   ],
   "source": [
    "wage_mean=wage_data.mean()\n",
    "wage_std=wage_data.std()\n",
    "lb=wage_mean-3*wage_std\n",
    "ub=wage_mean+3*wage_std\n",
    "con1=wage_data>lb\n",
    "con2=wage_data<ub\n",
    "con=con1 & con2\n",
    "len(visa_df[con])==99.7*25480/100"
   ]
  },
  {
   "cell_type": "markdown",
   "id": "d942ff8c-5721-4549-924e-74e6f7a2fbff",
   "metadata": {},
   "source": [
    "#### conclusion : data not following normal distribution"
   ]
  },
  {
   "cell_type": "markdown",
   "id": "86f2920b-7e1e-4afd-8421-4caf2117f8d5",
   "metadata": {},
   "source": [
    "# Histogram"
   ]
  },
  {
   "cell_type": "code",
   "execution_count": 40,
   "id": "c589224a-78a9-4349-ace3-69c1a9a0861c",
   "metadata": {},
   "outputs": [
    {
     "data": {
      "text/plain": [
       "(array([6038., 5504., 5681., 4551., 2334.,  624.,  373.,  240.,  114.,\n",
       "          21.]),\n",
       " array([2.13670000e+00, 3.19229500e+04, 6.38437634e+04, 9.57645767e+04,\n",
       "        1.27685390e+05, 1.59606203e+05, 1.91527017e+05, 2.23447830e+05,\n",
       "        2.55368643e+05, 2.87289457e+05, 3.19210270e+05]),\n",
       " <BarContainer object of 10 artists>)"
      ]
     },
     "execution_count": 40,
     "metadata": {},
     "output_type": "execute_result"
    },
    {
     "data": {
      "image/png": "[encoded data removed]",
      "text/plain": [
       "<Figure size 640x480 with 1 Axes>"
      ]
     },
     "metadata": {},
     "output_type": "display_data"
    }
   ],
   "source": [
    "plt.hist(wage_data)   # (a,b,c)"
   ]
  },
  {
   "cell_type": "code",
   "execution_count": 41,
   "id": "231fd681-893f-4c28-aa0d-634ec0373d53",
   "metadata": {},
   "outputs": [
    {
     "data": {
      "text/plain": [
       "6038"
      ]
     },
     "execution_count": 41,
     "metadata": {},
     "output_type": "execute_result"
    }
   ],
   "source": [
    "lb=wage_data>=2.13670000e+00\n",
    "ub=wage_data<3.19229500e+04\n",
    "con=lb&ub\n",
    "len(visa_df[con])"
   ]
  },
  {
   "cell_type": "code",
   "execution_count": null,
   "id": "ccb33665-7163-478a-9b62-38b4171fe567",
   "metadata": {},
   "outputs": [],
   "source": []
  },
  {
   "cell_type": "code",
   "execution_count": 42,
   "id": "324c5202-2c03-457b-a9a8-9f9140a5476f",
   "metadata": {},
   "outputs": [
    {
     "data": {
      "image/png": "[encoded data removed]",
      "text/plain": [
       "<Figure size 640x480 with 1 Axes>"
      ]
     },
     "metadata": {},
     "output_type": "display_data"
    }
   ],
   "source": [
    "\n",
    "\n",
    "plt.hist(wage_data,bins=30)\n",
    "plt.show()"
   ]
  },
  {
   "cell_type": "markdown",
   "id": "4b1459c5-e4e2-457c-b001-4b87153c7f77",
   "metadata": {},
   "source": [
    "# Boxplot"
   ]
  },
  {
   "cell_type": "code",
   "execution_count": 43,
   "id": "9c5cc129-549f-4636-b632-66fa4f7e7b36",
   "metadata": {},
   "outputs": [
    {
     "data": {
      "image/png": "[encoded data removed]",
      "text/plain": [
       "<Figure size 640x480 with 1 Axes>"
      ]
     },
     "metadata": {},
     "output_type": "display_data"
    }
   ],
   "source": [
    "plt.boxplot(wage_data,vert=False)\n",
    "plt.show()"
   ]
  },
  {
   "cell_type": "markdown",
   "id": "e31051c2-c136-40ac-9229-702d93e20dda",
   "metadata": {},
   "source": [
    "                  .. code-block:: none\n",
    "\n",
    "          Q1-1.5IQR   Q1   median  Q3   Q3+1.5IQR\n",
    "                       |-----:-----|\n",
    "       o      |--------|     :     |--------|    o  o\n",
    "                       |-----:-----|\n",
    "     flier             <----------->            fliers"
   ]
  },
  {
   "cell_type": "code",
   "execution_count": null,
   "id": "c816e382-2628-402b-b0a6-64f3476e299c",
   "metadata": {},
   "outputs": [],
   "source": [
    "# outliers will be availabe less than q1 and greater than q3\n",
    "# lb=q1-1.5*IQR\n",
    "# ub=q3+1.5*IQR\n",
    "================ outlier data ==============================\n",
    "step-1: q1,q2,q3\n",
    "step-2: IQR\n",
    "step-3: lb=q1-1.5*IQR\n",
    "step-4: ub=q3+1.5*IQR\n",
    "step-5: con1= wage_data<lb\n",
    "step-6: con2= wage_data>ub\n",
    "step-7: con=con1 | con2\n",
    "\n",
    "==================== Non outliers data =========================\n",
    "step-1: q1,q2,q3\n",
    "step-2: IQR\n",
    "step-3: lb=q1-1.5*IQR\n",
    "step-4: ub=q3+1.5*IQR\n",
    "step-5: con1= wage_data>lb\n",
    "step-6: con2= wage_data<ub\n",
    "step-7: con=con1 & con2"
   ]
  },
  {
   "cell_type": "code",
   "execution_count": null,
   "id": "3a6661ed-2ad9-4fb8-8cc9-e62da1616013",
   "metadata": {},
   "outputs": [],
   "source": [
    "# outlier=427\n",
    "# non_outliers_df= 25480-427=25053 ==== box plot and histogram"
   ]
  },
  {
   "cell_type": "markdown",
   "id": "411b113d-fccb-40b0-9b31-960c5f312cc8",
   "metadata": {},
   "source": [
    "**task: 1 get outliers data(427)**\n",
    "\n",
    "**task: 2 get non outlier data(25053)**\n",
    "     \n",
    "     - draw the histogram and boxplot\n",
    "\n",
    "\n",
    "\n",
    "**task: 3 you need to do replace 427 values wage median ( 25480 )**\n",
    "    \n",
    "     - draw the histogram and boxplot\n",
    "\n",
    "**task: 4: 4*4 subplot**\n",
    "      \n",
    "      - before outlier imputation - after outlier imputaion\n",
    "      - histogram boxplot\n",
    "      - histogram boxplot"
   ]
  },
  {
   "cell_type": "code",
   "execution_count": null,
   "id": "d080e7a7-f9ec-45e0-bc56-3711c88c3c22",
   "metadata": {},
   "outputs": [],
   "source": []
  },
  {
   "cell_type": "code",
   "execution_count": 44,
   "id": "92791195-c107-42d2-8471-b166f6d46b8e",
   "metadata": {},
   "outputs": [
    {
     "data": {
      "text/plain": [
       "427"
      ]
     },
     "execution_count": 44,
     "metadata": {},
     "output_type": "execute_result"
    }
   ],
   "source": [
    "q1=np.percentile(wage_data, 25)\n",
    "\n",
    "q2=np.percentile(wage_data, 50)\n",
    "\n",
    "q3=np.percentile(wage_data,75)\n",
    "IQR=q3-q1                           #outlayer=427\n",
    "lb= q1-1.5*IQR\n",
    "ub= q3+1.5*IQR\n",
    "con1=wage_data<lb\n",
    "con2=wage_data>ub\n",
    "con=con1 | con2\n",
    "len(visa_df[con])"
   ]
  },
  {
   "cell_type": "code",
   "execution_count": 45,
   "id": "845fdf99-4992-4bea-8847-78f871c7342e",
   "metadata": {},
   "outputs": [
    {
     "data": {
      "text/plain": [
       "25053"
      ]
     },
     "execution_count": 45,
     "metadata": {},
     "output_type": "execute_result"
    }
   ],
   "source": [
    "q1=np.percentile(wage_data, 25)\n",
    "\n",
    "q2=np.percentile(wage_data, 50)\n",
    "\n",
    "q3=np.percentile(wage_data,75)\n",
    "IQR=q3-q1                         # non outlayers\n",
    "lb= q1-1.5*IQR\n",
    "ub= q3+1.5*IQR\n",
    "con1=wage_data>lb\n",
    "con2=wage_data<ub\n",
    "con=con1 & con2\n",
    "len(visa_df[con])"
   ]
  },
  {
   "cell_type": "markdown",
   "id": "ca5197ee-b59e-4af9-a219-76e0a8bd7366",
   "metadata": {},
   "source": [
    "# Histogram and Boxplot:"
   ]
  },
  {
   "cell_type": "code",
   "execution_count": 48,
   "id": "b3e24331-ccdb-42cf-80d7-5bacb6a7065e",
   "metadata": {},
   "outputs": [
    {
     "data": {
      "image/png": "[encoded data removed]",
      "text/plain": [
       "<Figure size 1200x500 with 2 Axes>"
      ]
     },
     "metadata": {},
     "output_type": "display_data"
    }
   ],
   "source": [
    "plt.figure(figsize=(12,5))\n",
    "\n",
    "# Histogram\n",
    "plt.subplot(1, 2, 1)\n",
    "sns.histplot(wage_data, bins=50, kde=True)\n",
    "plt.title(\"Histogram - Original Wage\")\n",
    "\n",
    "# Boxplot\n",
    "plt.subplot(1, 2, 2)\n",
    "sns.boxplot(x=wage_data)\n",
    "plt.title(\"Boxplot - Original Wage\")\n",
    "\n",
    "plt.tight_layout()\n",
    "plt.show()\n"
   ]
  },
  {
   "cell_type": "code",
   "execution_count": 50,
   "id": "71dc5392-6cca-4e09-85f3-a938ff7f82d0",
   "metadata": {},
   "outputs": [],
   "source": [
    "wage_median = 25480\n",
    "\n",
    "# Copy original\n",
    "wage_replaced = wage_data.copy()\n",
    "\n",
    "# Replace only outliers\n",
    "wage_replaced[(wage_data < lb) | (wage_data > ub)] = wage_median\n"
   ]
  },
  {
   "cell_type": "markdown",
   "id": "f4dff999-e6d3-4957-8ac8-c4417c1ee2a8",
   "metadata": {},
   "source": [
    "# Histogram & Boxplot After Imputation:"
   ]
  },
  {
   "cell_type": "code",
   "execution_count": 51,
   "id": "9d13e515-649b-4d57-8f79-df6712d12bf9",
   "metadata": {},
   "outputs": [
    {
     "data": {
      "image/png": "[encoded data removed]",
      "text/plain": [
       "<Figure size 1200x500 with 2 Axes>"
      ]
     },
     "metadata": {},
     "output_type": "display_data"
    }
   ],
   "source": [
    "plt.figure(figsize=(12,5))\n",
    "\n",
    "# Histogram\n",
    "plt.subplot(1, 2, 1)\n",
    "sns.histplot(wage_replaced, bins=50, kde=True)\n",
    "plt.title(\"Histogram - After Outlier Imputation\")\n",
    "\n",
    "# Boxplot\n",
    "plt.subplot(1, 2, 2)\n",
    "sns.boxplot(x=wage_replaced)\n",
    "plt.title(\"Boxplot - After Outlier Imputation\")\n",
    "\n",
    "plt.tight_layout()\n",
    "plt.show()\n"
   ]
  },
  {
   "cell_type": "markdown",
   "id": "70a8f3a3-b044-4c1b-a9d6-1d1dad8b7a00",
   "metadata": {},
   "source": [
    "# ✅ Task 4: Final 4x4 Subplot Comparison"
   ]
  },
  {
   "cell_type": "code",
   "execution_count": 52,
   "id": "acc0abbb-8251-49c9-983d-f410630fdb74",
   "metadata": {},
   "outputs": [
    {
     "data": {
      "image/png": "[encoded data removed]",
      "text/plain": [
       "<Figure size 1600x1200 with 4 Axes>"
      ]
     },
     "metadata": {},
     "output_type": "display_data"
    }
   ],
   "source": [
    "plt.figure(figsize=(16, 12))\n",
    "\n",
    "# 1. Histogram Before\n",
    "plt.subplot(2, 2, 1)\n",
    "sns.histplot(wage_data, bins=50, kde=True)\n",
    "plt.title(\"Histogram - Before Imputation\")\n",
    "\n",
    "# 2. Boxplot Before\n",
    "plt.subplot(2, 2, 2)\n",
    "sns.boxplot(x=wage_data)\n",
    "plt.title(\"Boxplot - Before Imputation\")\n",
    "\n",
    "# 3. Histogram After\n",
    "plt.subplot(2, 2, 3)\n",
    "sns.histplot(wage_replaced, bins=50, kde=True, color='orange')\n",
    "plt.title(\"Histogram - After Imputation\")\n",
    "\n",
    "# 4. Boxplot After\n",
    "plt.subplot(2, 2, 4)\n",
    "sns.boxplot(x=wage_replaced, color='orange')\n",
    "plt.title(\"Boxplot - After Imputation\")\n",
    "\n",
    "plt.tight_layout()\n",
    "plt.show()\n"
   ]
  },
  {
   "cell_type": "code",
   "execution_count": null,
   "id": "525c2f08-7986-41aa-8644-bcf7f85172f4",
   "metadata": {},
   "outputs": [],
   "source": []
  }
 ],
 "metadata": {
  "kernelspec": {
   "display_name": "Python 3 (ipykernel)",
   "language": "python",
   "name": "python3"
  },
  "language_info": {
   "codemirror_mode": {
    "name": "ipython",
    "version": 3
   },
   "file_extension": ".py",
   "mimetype": "text/x-python",
   "name": "python",
   "nbconvert_exporter": "python",
   "pygments_lexer": "ipython3",
   "version": "3.12.7"
  }
 },
 "nbformat": 4,
 "nbformat_minor": 5
}
